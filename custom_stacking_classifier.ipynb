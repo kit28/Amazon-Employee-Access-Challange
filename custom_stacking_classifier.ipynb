{
 "cells": [
  {
   "cell_type": "markdown",
   "metadata": {
    "id": "NC4aW0OLpeX1"
   },
   "source": [
    "# Load data"
   ]
  },
  {
   "cell_type": "code",
   "execution_count": 2,
   "metadata": {
    "id": "Mzd5MPyxooI8"
   },
   "outputs": [],
   "source": [
    "import numpy as np\n",
    "import pandas as pd\n",
    "\n",
    "from sklearn.linear_model import SGDClassifier\n",
    "from sklearn.model_selection import GridSearchCV\n",
    "from sklearn.model_selection import RandomizedSearchCV\n",
    "import seaborn as sns\n",
    "import matplotlib.pyplot as plt\n",
    "from sklearn.model_selection import train_test_split\n",
    "import pickle\n",
    "from sklearn.linear_model import LogisticRegression\n",
    "import xgboost as xgb\n",
    "from scipy import stats\n",
    "from sklearn.ensemble import RandomForestClassifier\n",
    "from sklearn.svm import LinearSVC\n",
    "from scipy.stats import uniform\n",
    "from sklearn.calibration import CalibratedClassifierCV\n",
    "from sklearn.svm import SVC\n",
    "import scipy\n",
    "from catboost import CatBoostClassifier"
   ]
  },
  {
   "cell_type": "code",
   "execution_count": 18,
   "metadata": {
    "id": "yUAiRGX8pmGj"
   },
   "outputs": [],
   "source": [
    "# loading train data\n",
    "train = pd.read_csv('/content/drive/MyDrive/train.csv')\n",
    "# loading test data\n",
    "test = pd.read_csv('/content/drive/MyDrive/test.csv')"
   ]
  },
  {
   "cell_type": "code",
   "execution_count": 19,
   "metadata": {
    "id": "OPA0vhMGpmJO"
   },
   "outputs": [],
   "source": [
    "Y = train['ACTION']\n",
    "X = train[train.columns.difference(['ACTION'])]"
   ]
  },
  {
   "cell_type": "code",
   "execution_count": 20,
   "metadata": {
    "colab": {
     "base_uri": "https://localhost:8080/"
    },
    "id": "HLidFZKopmOB",
    "outputId": "ccc8324e-355f-44b3-c978-943ab54ba7d1"
   },
   "outputs": [
    {
     "data": {
      "text/plain": [
       "(58921, 9)"
      ]
     },
     "execution_count": 20,
     "metadata": {
      "tags": []
     },
     "output_type": "execute_result"
    }
   ],
   "source": [
    "X_test=test.drop(columns=['id'],axis=1)\n",
    "X_test.shape"
   ]
  },
  {
   "cell_type": "code",
   "execution_count": 21,
   "metadata": {
    "id": "XC4mg2ccp5Hy"
   },
   "outputs": [],
   "source": [
    "# loading train/test one_hot encoded data\n",
    "f = open('/content/drive/MyDrive/1_hot_enc.pckl','rb')\n",
    "X_train_ohe,X_test_ohe = pickle.load(f)\n",
    "f.close()"
   ]
  },
  {
   "cell_type": "code",
   "execution_count": 22,
   "metadata": {
    "id": "jHhkXbY6p5Ke"
   },
   "outputs": [],
   "source": [
    "def generating_samples(input_data, target_data):\n",
    "\n",
    "    '''In this function, we will write code for generating samples with replacement of size 15k '''\n",
    "\n",
    "    rows = np.random.choice(len(input_data), size=15000, replace=True)\n",
    "    x = input_data.iloc[rows]\n",
    "    y = target_data.iloc[rows]\n",
    "\n",
    "    return x,y"
   ]
  },
  {
   "cell_type": "code",
   "execution_count": 93,
   "metadata": {
    "id": "P0K3u_ibMGtG"
   },
   "outputs": [],
   "source": [
    "class Classifier(object):\n",
    "    '''class that trains & predict sklearn classifiers '''\n",
    "    def __init__(self, clf, seed=0, params=None):\n",
    "        params['random_state'] = seed\n",
    "        self.clf = clf(**params)\n",
    "\n",
    "    def train(self, x_train, y_train):\n",
    "        self.clf.fit(x_train, y_train)\n",
    "\n",
    "    def predict(self, x):\n",
    "        return self.clf.predict_proba(x)[:,1]\n",
    "    \n",
    "    def feature_names(self):\n",
    "        # for XGBoost classifier only\n",
    "        return self.clf.get_booster().feature_names"
   ]
  },
  {
   "cell_type": "code",
   "execution_count": 103,
   "metadata": {
    "id": "fOZVonyn5lTN"
   },
   "outputs": [],
   "source": [
    "class StackingClassifier(object):\n",
    "\n",
    "    '''Custom stacking-classifier  '''\n",
    "\n",
    "    def __init__(self, models, params):\n",
    "        self.models = models\n",
    "        self.params = params\n",
    "    \n",
    "    def train(self, X, Y, test, k):\n",
    "        # splitting data into D1,D2 (50-50)\n",
    "        X_D1, X_D2, Y_D1, Y_D2 = train_test_split(X, Y, test_size=0.5, stratify=Y, random_state=42)\n",
    "\n",
    "        D2_pred = {}\n",
    "        test_pred = {}\n",
    "\n",
    "        for i in range(k):\n",
    "            model = self.models[i % len(self.models)]\n",
    "            param = self.params[i % len(self.params)]\n",
    "\n",
    "            print(\" training classifier \"+str(i+1))\n",
    "            \n",
    "            # sampling data\n",
    "            x1,y1 = generating_samples(X_D1,Y_D1)\n",
    "\n",
    "            base_model = Classifier(model, params=param)          # training on sample data\n",
    "            base_model.train(x1,y1)\n",
    "\n",
    "            D2_pred[i] = base_model.predict(X_D2)   # base_model prediction on D2 data\n",
    "\n",
    "            # base model prediction on test data\n",
    "            if model==xgb.XGBClassifier:\n",
    "                t = test[base_model.feature_names()]\n",
    "                test_pred[i] = base_model.predict(t)\n",
    "            else:\n",
    "                test_pred[i] = base_model.predict(test)\n",
    "        \n",
    "        # storing k predictions in a dataframe\n",
    "        train_data = pd.DataFrame(D2_pred)\n",
    "        test_data = pd.DataFrame(test_pred)\n",
    "\n",
    "        # training meta classifier\n",
    "        lr = LogisticRegression(random_state=0,class_weight='auto')\n",
    "        parameter = {'C':[10**i for i in range(-5,5)]}\n",
    "\n",
    "        clf = GridSearchCV(lr, parameter, scoring='roc_auc',return_train_score=True, n_jobs=-1)   #hyperparameter tuning using gridsearch\n",
    "        grid_result = clf.fit(train_data,Y_D2)\n",
    "\n",
    "        print(\"Best auc: %f using %s\" % (grid_result.best_score_, grid_result.best_params_))  #printing best auc score for best alpha\n",
    "        c = grid_result.best_params_['C']\n",
    "\n",
    "        meta = LogisticRegression(random_state=0,class_weight='auto',C=c)\n",
    "        meta.fit(train_data,Y_D2)\n",
    "\n",
    "        # final prediction on test data\n",
    "        predictions = meta.predict_proba(test_data)[:,1]\n",
    "\n",
    "        return meta,predictions    # returning final classifier and predictions"
   ]
  },
  {
   "cell_type": "code",
   "execution_count": 42,
   "metadata": {
    "colab": {
     "base_uri": "https://localhost:8080/"
    },
    "id": "L1A-92mMZg_A",
    "outputId": "93e02a46-75d2-42fc-c0e4-06aeebfcd2d8"
   },
   "outputs": [
    {
     "name": "stdout",
     "output_type": "stream",
     "text": [
      "[0, 1, 2, 3, 4, 5, 6, 7, 8]\n"
     ]
    }
   ],
   "source": [
    "features = list(range(X.shape[1]))\n",
    "print(features)"
   ]
  },
  {
   "cell_type": "code",
   "execution_count": 104,
   "metadata": {
    "id": "AD6gsPjmiPGT"
   },
   "outputs": [],
   "source": [
    "# list of models and there parameters\n",
    "\n",
    "models = [CatBoostClassifier,xgb.XGBClassifier,RandomForestClassifier,LogisticRegression]\n",
    "\n",
    "LR_param = {'C':1,\n",
    "            'max_iter':1000,\n",
    "            'class_weight':'balanced'}\n",
    "\n",
    "RF_param = {'max_depth': 25,\n",
    "            'max_features': 3,\n",
    "            'min_samples_split': 3,\n",
    "            'n_estimators': 437}\n",
    "\n",
    "\n",
    "XGB_param = {'colsample_bytree': 0.3732907507832548,\n",
    "            'learning_rate': 0.2620452218743664,\n",
    "            'max_depth': 10,\n",
    "            'min_child_weight': 1,\n",
    "            'n_estimators': 309,\n",
    "            'subsample': 0.9755215050028858}\n",
    "\n",
    "CAT_param = {'loss_function':'Logloss',\n",
    "          'eval_metric':'AUC',\n",
    "          'cat_features':features,\n",
    "          'verbose':False,\n",
    "          'early_stopping_rounds': 200}\n",
    "\n",
    "params = [CAT_param,XGB_param,RF_param,LR_param]"
   ]
  },
  {
   "cell_type": "code",
   "execution_count": 105,
   "metadata": {
    "id": "ClBKjtLg7EaF"
   },
   "outputs": [],
   "source": [
    "stc = StackingClassifier(models,params)"
   ]
  },
  {
   "cell_type": "code",
   "execution_count": 106,
   "metadata": {
    "colab": {
     "base_uri": "https://localhost:8080/"
    },
    "id": "qM0Jhwgj_Zrm",
    "outputId": "6f624ff5-d172-4bd4-8061-8f05a5a463c6"
   },
   "outputs": [
    {
     "name": "stdout",
     "output_type": "stream",
     "text": [
      "\n",
      " no. of base_learners =  2\n",
      " training classifier 1\n",
      " training classifier 2\n",
      "Best auc: 0.848565 using {'C': 0.01}\n",
      "=================================\n",
      "=================================\n",
      "\n",
      " no. of base_learners =  3\n",
      " training classifier 1\n",
      " training classifier 2\n",
      " training classifier 3\n",
      "Best auc: 0.856634 using {'C': 10000}\n",
      "=================================\n",
      "=================================\n",
      "\n",
      " no. of base_learners =  4\n",
      " training classifier 1\n",
      " training classifier 2\n",
      " training classifier 3\n",
      " training classifier 4\n",
      "Best auc: 0.856930 using {'C': 10}\n",
      "=================================\n",
      "=================================\n",
      "\n",
      " no. of base_learners =  5\n",
      " training classifier 1\n",
      " training classifier 2\n",
      " training classifier 3\n",
      " training classifier 4\n",
      " training classifier 5\n",
      "Best auc: 0.863643 using {'C': 1}\n",
      "=================================\n",
      "=================================\n",
      "\n",
      " no. of base_learners =  6\n",
      " training classifier 1\n",
      " training classifier 2\n",
      " training classifier 3\n",
      " training classifier 4\n",
      " training classifier 5\n",
      " training classifier 6\n",
      "Best auc: 0.864614 using {'C': 0.1}\n",
      "=================================\n",
      "=================================\n",
      "\n",
      " no. of base_learners =  7\n",
      " training classifier 1\n",
      " training classifier 2\n",
      " training classifier 3\n",
      " training classifier 4\n",
      " training classifier 5\n",
      " training classifier 6\n",
      " training classifier 7\n",
      "Best auc: 0.864899 using {'C': 1}\n",
      "=================================\n",
      "=================================\n",
      "\n",
      " no. of base_learners =  8\n",
      " training classifier 1\n",
      " training classifier 2\n",
      " training classifier 3\n",
      " training classifier 4\n",
      " training classifier 5\n",
      " training classifier 6\n",
      " training classifier 7\n",
      " training classifier 8\n",
      "Best auc: 0.868887 using {'C': 1}\n",
      "=================================\n",
      "=================================\n",
      "\n",
      " no. of base_learners =  9\n",
      " training classifier 1\n",
      " training classifier 2\n",
      " training classifier 3\n",
      " training classifier 4\n",
      " training classifier 5\n",
      " training classifier 6\n",
      " training classifier 7\n",
      " training classifier 8\n",
      " training classifier 9\n",
      "Best auc: 0.871383 using {'C': 1}\n",
      "=================================\n",
      "=================================\n",
      "\n",
      " no. of base_learners =  10\n",
      " training classifier 1\n",
      " training classifier 2\n",
      " training classifier 3\n",
      " training classifier 4\n",
      " training classifier 5\n",
      " training classifier 6\n",
      " training classifier 7\n",
      " training classifier 8\n",
      " training classifier 9\n",
      " training classifier 10\n",
      "Best auc: 0.873051 using {'C': 1}\n",
      "=================================\n",
      "=================================\n",
      "\n",
      " no. of base_learners =  11\n",
      " training classifier 1\n",
      " training classifier 2\n",
      " training classifier 3\n",
      " training classifier 4\n",
      " training classifier 5\n",
      " training classifier 6\n",
      " training classifier 7\n",
      " training classifier 8\n",
      " training classifier 9\n",
      " training classifier 10\n",
      " training classifier 11\n",
      "Best auc: 0.871822 using {'C': 1}\n",
      "=================================\n",
      "=================================\n"
     ]
    }
   ],
   "source": [
    "# checking score for different no of base_models\n",
    "for k in range(2,12):\n",
    "    print(\"\\n no. of base_learners = \",k)\n",
    "    meta,predictions = stc.train(X, Y, X_test,k=k)\n",
    "    print(\"=================================\")\n",
    "    print(\"=================================\")"
   ]
  },
  {
   "cell_type": "code",
   "execution_count": null,
   "metadata": {
    "id": "U8btfwZ07Tk-"
   },
   "outputs": [],
   "source": [
    "# meta,predictions = stc.train(X, Y, X_test,k=10)\n",
    "# data = {'ID':test[\"id\"], \n",
    "#         'Action':predictions}\n",
    "# res = pd.DataFrame(data)\n",
    "# res.to_csv(\"stacking_classifier.csv\", index = False)"
   ]
  },
  {
   "cell_type": "markdown",
   "metadata": {
    "id": "K_nCcLxMHGM_"
   },
   "source": [
    "![image.png](data:image/png;base64,iVBORw0KGgoAAAANSUhEUgAAAr0AAABbCAYAAAB+pj1uAAAgAElEQVR4Ae2dv2vcyPvH/V+kvPLKT5kyZUqVV2655ZZbujQYzBIwOEVAxRWCFF9B4BABn7UYE4UknALmInKBEyEEkSNEJpjoyBneX54ZjTTSan84We9u7HfAsVYz88zMa2Z33nr2mfEW+I8ESIAESIAESIAESIAErjmBrWveP3aPBEiABEiABEiABEiABEDRy0lAAiRAAiRAAiRAAiRw7QlQ9F77IWYHSYAESIAESIAESIAEKHo5B0iABEiABEiABEiABK49AYreaz/E7CAJkAAJkAAJkAAJkABFL+cACZAACZAACZAACZDAtSdA0Xvth5gdJAESIAESIAESIAESoOjlHCABEiABEiABEiABErj2BCh6r/0Qs4MkQAIkQAIkQAIkQAIUvZwDJEACJEACJEACJEAC154ARe+1H2J2kARIgARIgARIgARIgKKXc4AESIAESIAESIAESODaE6DovfZDzA6SAAmQAAmQAAmQAAlQ9HIOkAAJkAAJkAAJkAAJXHsCFL3XfojZQRIgARIgARIgARIggSsSvQXyNEWSJEjSDMXCnHNk+cKZZ2bMkwhRtnjNbWNFFiFKltSYtvElvS7yDNNamGcZMusn/3YU39Xa7+JYZIiiZGofv6thLEwCJEACm0ogb35+Z1k+Zx3NEIchNmLJKjKksvYnKdJ1LTybOq7T2nXp8bYNFZD1fpoWACS9nD95ijCM8K3SqMiMrkvxow7t8kWvCBXfQxinSnSlSYjAC5EuIrryGG48fejsYZ53ff1Fb4E0dNGNK0fs+ghj+eCRnwih78ELVy8gLyN6VV773UjRO2+aM50ESOAaEshjF67nIwgC/eN7cL1ghqjNkSxD9OYJguDbRVEeB/Ck3VGMJArhey68MJ0j2K/hAF6yS5cfb6uCIkXoTtMCAFR6qcGKFNE3id4cceDB8wNEcYIo9OG5HsKFhJ3V1g24XLrozRMfQftxMw0XE7NLFL0bwPaKmzBP9E4+aOSxDy/Krrhd326+SMMf8k307T1mSRIgARKYJKBEUEssZpEHt3VvsuR33pE12J1cOxayqsSV33TEqHte895Cxm5Wpu8a78uI3m/EKmuz68cNb7K65zXvfaP5lRZbjei1uiSD23g6kAEzb2QlelOkoQ9fnnB9D0FUh0dI2ThNEfo6zQsSZHlSvXb9+gm1UY94DANjU55Ca5viXQx8/UTty1NM6WlUA2q5UfMk1E+wgQ/PCxBX2lG8qjHSNKyeyKVd0/zVqj7Pq/tX1THPjohc/aQVBD6COEUy09Pb9cGVI7a97sKubIvveQjth5UZzDCtnBrLBGkUqP6JOZujXIdphqQcC7vOPCnHVMbW8FNvZutN1ao3qAcB1dxQnhE9RnZ3rCnISxIgARLYaALyedYWuOqz1NWfhyo9ihH7Llx1T9YP4+3LELmetUYByGN4ImbF8Sdrnifl5MdaY5XgNfetdVqtBV6ZX3tuO9c39Xntz/BGSztkzTF1WHXLaEzUU6+jqu9hjDiUdhivpazrC7Rro0daN26h8a60wqT3Vjy9UZLU4yrrvBkkNS6GmXiFLW0wg7mNTfH36/Gw08y10khqTsm3FLWWUukzxn1yLnfNhXSqpjL1L/p76aJXTVwRq2HSGc8jHZwpet3mk2Ia1S50KWt7KrOo+cEgnsygdLfb9Ui+2sFZIEviMqZFPhwiVPq1yJDEWhCrQTaTLIubX9HIJKrEo3zY1G0U8PJE3uhjNRo50iiyQj1yJEFQvp5tRzzovmmPqiSGX33IVRWUF2LLmthWsrDQZrKmAIYW1UZHzmLWEM52ufJDz26mzVFdV9ykUdL/erwlvcFN2TOit7u9Jr+aG+bhSUxnUXPMLAa8JAESIIFNJiCfZ23RK2uAG+hQAZVuCxvYohfIYg+e+TBXmteDqxZBCYOwnTYZIs9aHyc8vTkS37UcInqdaKxFFUidJmEZYdQVzyt12WtjpkR7KEpc1gLftda40slTLtxq7RBtUIW/XaZdVQM39mKh8W4urLV4VetkM4xEtJBrRKpK7xK9hrlRQMLchd/lLRIbEqrih4jSjnheWW/ttT0TfaIfsoD2uOdq3E09XXN58Tl3+SFdvugt25BnEjsSQLx5QVSrdOmgESoqq8A0YkXecOba9EWeUMt77bJtkaTeGOXEsPNqwVh7d41p/Uaz30h1im2rKQB1HrGp+zEpMO2ytcWOq0JEnxGhs+wUSIO2iJV7pmzb9qQtk0O4KERZVH4ImhTxykZVGMpUZh3lKgvqzWVEqr5rs7CvqzLyZinHTNIn5kbp2RARqz+0q5LKa+BPmRs6jqnZFqskL0mABEhgYwnI57Trh4jVnoxExcfaMZQq3RZBLdELcdR4cenQkW/4Wp5f03Px9ImoNbGZbdGbJ/Btx5CUk8/iGV9rF3mKRL7tE4+uCGAjoqScEWKmfvPb8kSbW+IVNnWrtcPWBlZalX9Ou6p8G3hx6fGeELItLaDSS6/7RN5SSyiGRpguAkUOKEjUt+aeqwVwPbRTxLJySktoRMtLrMIl9L2JuXzFY3tlordGWCCTWNLyqVM6WL3BJJMMiJnM8oZrvJGb6e2ybZFki6pmXmlDqMIlVCB25ffXbvS4FOd+EFVfCdS29NPPZLNCeGrEJwVmXbamYK7yVL5a0uENYSQbzMxknWVnMk12ZM7eyNYWyQq2Ch2RZqs22hslzIYJM4vRzWxW37qEpp1frhtjL02SMbee5hvp6s2qhattx7BU9Xn1G2da2So/L0iABEjgByCghIAtepO0seNepTcWJVkjzFoiHRQvXil0RVBWAlh8BeUGMwklC0O1BlWfnROiV2J8y3A8s0ao3y0RM4VpoTx+uh3qM9ys9e38qt6Wk8ISaxNlVf5vb1e7+nW/vvR4W2z0utte7635MC1vF/OFQWhdJw8/4k4ULVLNoZaNibGTdKvuibl8xWO7dNHbeYyWKPcZHrnAvBGks+bagFuCp9eY0r/l6x3PCnewUlXciQ53sEXW0jy9wsHEq6pqbeE6KWzrNohX14RBmPbqryYan3smST31t98E+gEiME/o8lTcXbiyUl9YzKRcHStSZ5ErS6SahLoPpdBu15mG9PQaWPxNAiRAAkoTTIY32GAmhELb0ys2Eu1s0qEOZYCn8ahWpym1BIsSHNba0eV1sxtiX4uHN2l/o6q/kVSCaJYnVtVj1St2VVut9djWBpdpl93GDb1W42n3r9XOifG2x1Gtu/YDj1mLF/T0VnOhVan1Ujy8SRVaUiYUKYIyjFI0kvnG1iqmLzvGXemC0vs72bfawz9hawk3li565Q3mW7FE4pEUT6+J35DOmnAFk1a9Vm+4OsZTezMlBkj3VODYTxNiq/3aCLk6b440tIK6y6cSHd6kvcwm3luLNutNZgRaZ0yviQWeJVZbI9QWvTJZPTNZZ9sp0qDJVcICGk/2dl2TtpCn6ii5Wq+2Y2QlDixApL7mmsEM7XLyoVl6FBYRvXbcj3xQ+/V4q7lhmEt3Gva66zX9qce75NAoa7PhNQmQAAlsNgElBC4jgjpErwoP8Dy1Abv6As8SkopArveGVOuoEjL20WjtuE9ZJ/zKidWgqMrqDdFaR8nX4SE812xuM7Gd5YpbhVaIlboeU1Zt3C4/4JVIavCo85s2TG2XybDBv+eOt8RzqxjuApCwSNnUbvbtqLXOPpK0QBZdLqZXMxe73WEKoj+k/sQczluIRvDqsAUT01sNbdQR02uUlo7lNppQ9d1e9625YIZsmWO7dNErk1d270v8kS8nHajdofY5fXrA1M5RNYjt8IYMctafnN6g4oEtAd0WNouJXvXI2zilwD69oX0qw9TTG1L5SkhOeZCTAexDwCcFpnqDNgbRDJ08vJbnGMoJBmo36mKiVz0gCFdpg5w2Mff0BrNDVu/Q9cM6dKNqjRxU7euviHTstfWU3j4pwTrxQgS0Xa6K2eoQmjYLfV2fzqFOb7BDTeSDW+3GLR8o2vam1aucAs0HoqZgrnrMCxIgARLYeAJzRZDE/DbWGFmHzFpiuqe9rM14ShFEsj7rdcGsI5XoFSdVmW5EycSpCoGJFTb1WL8bu/Sn7OKXM4er+s0mKnFy2KcxePCtc+XV2tEQve38LrxZ7bKauImX88ZbPRSYkyqMbmqIXnHsaSeasPXss5bVOlp60e1rATHBvN5/1ebUOJ2hXYeSWTpsRms7e7NkqcHscbf0xKTobbdruWN7BaK3jYqvSUATsAUwmZAACZAACZAACZDAKglQ9K6S9g2vi6L3hk8Adp8ESIAESIAE1kiAoneN8G9c1bLRoR0Mf+MgsMMkQAIkQAIkQALrIEDRuw7qrJMESIAESIAESIAESGClBCh6V4qblZEACZAACZAACZAACayDAEXvOqizThIgARIgARIgARIggZUSoOhdKW5WRgIkQAIkQAIkQAIksA4CFL3roM46SYAESIAESIAESIAEVkqAoneluFkZCZAACZAACZAACZDAOghQ9K6DOuskARIgARIgARIgARJYKYGtT3kO/pAB5wDnAOcA5wDnAOcA5wDnwHWeA/T0rvQZg5WRAAmQAAmQAAmQAAmsgwBF7zqos04SIAESIAESIAESIIGVEqDoXSluVkYCJEACJEACJEACJLAOAhS966DOOkmABEiABEiABEiABFZKgKJ3pbhZGQmQAAmQAAmQAAmQwDoIUPSugzrrJAESIAESIAESIAESWCkBit6V4mZlJEACJEACJEACJEAC6yBA0bsO6qyTBEiABEiABEiABEhgpQQoeleKm5WRAAmQAAmQAAmQAAmsgwBF7zqos04SIAESIAESIAESIIGVEqDoXSluVkYCJEACJEACJEACJLAOAhS966DOOkmABEiABEiABEiABFZKgKJ3pbhZGQmQAAmQAAmQAAmQwDoI/KCi9zOS+A2Ssw5kH99gZ/8EB3/925G4glvFR8TxW2TFVdR1geTxCZxfXyMz5j+mGD0Y4869MYbPPyD0jtF79A5XUr2pk79JgARIgAQ2kkCeRgiDAEGUIF9gIajyh/HkulVkSJKk+ZPmzX4XOZIoQBAEiNppds48VXa618YcqbIRzrZh27vJ1xXzBXlV+bvHKE9bY5wkk3MhTxHJvAojTAzzIvOkHK9CzYMUrVm0stFcqeiNH41xx01qwfbN3Uyxs3uIndMOA+cpRusUvR9O4ewew/vQ0bbvvnWB9Pcnlui9QOQdYuv+C4Sn75Cef0H0kKL3uzHTAAmQAAn8gARSfxu93gAjN4C704fTGyGaoS5SfwinvwM3COCNpOw2gtTqeOLC6Q2wvb1d/7hxLVjyCKNeD9sjD0HgYqfvoD+K6nRlqkAa7KDvOHAcB75tX9LFhpTbPoDnjjDoORhOZLLadNMvbV7eCNvzeM0doxzhtoP+0Brj7eY8yKMR+k4f2wce3NEAPWfYHMd580SNWY7I3UZPzYOdmfPyKof4ikTvVxRnn5GfN72tWqCdTore88/Iz75M6Wdpq7iw0meIXitX4/K/L8jPzrs9oFJ/q62NstNedNnsFL3/IhcejT6URpWNKWnFuSpX/DetAZ/g3T/Eltf+FGnl72qnnUXqOf9q36mvZ5Wd277aDK9IgARIgASukEAeYtsZoF4OckQHPfS8pLtSEUPOoCFy4wMHzkFcrZN5tANnpy1ia3Op34Mziqr8yALVBls4i43+ToA0jbDTIXoTr4eea7Wx7Idto66RV8KrMSZpgKGzjXDKw838MUrhd4xLTTqB1+uhOUTbcAYBjPKYN0/ElrRj242QxT4c5zqJ3vd/ord3iK1d/fPT/T8Qn0N7JMt7W8YTev4OB/ePcMu6f/CqFr/Fqz/gVGmHykusITdFb3H6DLd3j7AjFcFO09eDhy9wp7JzAv+9EdAfEbjjqv7bv77EaBERiS+IHx3jp8rmGIPxRz1HGqL3Aun4Ke5W+ew+iNf2BD9baU4VliAe23Gn/ezxMbbuy4NDKXir8tq7rB4sqk+9yXYOn5uYEM2m7wm7LuE8WbbqI6a17z0O7h3i7m//1O8XxeMIo1eGeZ3EKxIgARIggeUQUMJjO2x6WcUD57iwJGVdmRK9TbGkBJKlbtRr5XUtUBSTsRLt/OK13WkLMFNOpbU9vQlcS3h31VE3mFeibzzHaQhQQHtqt6eo3rljpOZBKUILGecWZ5lDlcDtSC8FrTNjniiLxnB6rUTvZwQPDvE/L9VPfv/9A889xuhUxGgpfJVg01Cz8RPcefASiUr+iuTRGFv3Xuqnh48J+ruH+OVxpm2dvcFw7xC98eeGsC1evcDd3SO0xZwOfdDC7pb7JzLxlp69xWj/EFu/vlY28/EJlAB/K17Or8ifP8X/OgWgbq/5X8rdEuH+VjzZF8hjKXcCX3SvLXr/e4uD/TGGT0uhefYag91DDJ7/C5xJ/44wjEuR//YU/f0XiITFXy/wP7GvxLnYfwHnwZ+KSy16pTWTnl5b9Kp27j1B8EH6J3ZE4JrQi5LN/ZeIz3S66Z/8ntnHGe1Lfxtja78cQwCqvXsvENvGeU0CJEACJLBUAqnvwLEEqzKuhOZ0r5qEHQy2Ryr+NwpGGPab4RCJ68AZDjEsQxOcdvhDHsPdHmDHjxDHEbztPranhSZ0id6yfUHkq6/pJfxB6vCStvJaKqof15ji1XxQkc6kngMtOju6Nm+MSs/6cNhT4ScyBsODOoRFe3EDRBI6U86D3rYHe4jmzhO7WddO9LqHuLX/DOH7yVCCqeEN6iv0T8p7urX7DFEpurbaYkmFIYhA04Jt+PgUv+weovd76WVVYHWaLXrt2N/U8pT69w/xv/97Zw1HBvdel9fTyoJS2DfK6RAMFYZgi96q2AUKafv7BIO9QziPPwFnr5Wov/vwDdJ2aMXffyjPdf/xO2StsIPFRa9u591H73RohYRXnL3Dwf4hfvn9U8XQZlM1d14fZ7QPb1/i7u4Y7luxpkV5w/NbV8IrEiABEiCBJRFQorctOOeK3hGGgzJmd9hHf9ttxFrKBqc4KR1PKKBigHte7TkuBdWgjAcd9AcYBaXTq92vLtGrBJCD3iisNk5J/GjPGSGi7m0TVPHPOx2hAZ1jb0rPGyPZhBbH9eY0FQPswHiOlW2nh1Fo5kGOaNQMa5k7T0xb5Pf1Er3am+q64+pr+7vuSxXeIH1ti97i71MMxPO6e4jb947RfzCGEb1NcWcTU9TURjYpJ6ERWsSZPLNFb21XCzIlQE3RDs9plVRddJWrEpueXpypjWUSwnBr7wh3HpzgFyN6xfP66iX6+ya8Y4z+b+bUha9Inz6rwkRu7R1j57kW9nX7pc5Znl6dpuq9p093kBMe5Gcwnid65/QR09sHfIb/oAxxUA8ARgBbjHhJAiRAAiSwVALqa+x2/G0aYNAhklTFiYdeKy0LtuEM61jNyQZKOIIJUdBfqw+qcDoARQy318NB3KFYu0Sv8jI6Vhyy1Ki/wu+0Mdmgm3VHhSIY/qbrBVQsdvuBRyVfcoxKk3m4XcUNq2vHq+J3VZbUg+McoGuYtQl7npRGza9rJ3pNx/AVxYc32Ll3iFsPlduvJXo/QTytdx6+rWOQ4qeV6NWhB9rrW5lseXr7T88hnlsValDF6S4qerUn9Navb+ogfLzDSOKR7TdxVbm5KMs18kzx9L56hlu7J/BUeIGU/whvv/T0GnPy+78vyFTowSF2XtkJ8iFyjqTso4RPLC56dTvv/FYdbtYybHNqJZWe3lvT+mhnb7VPktTY7b9EWHnV7QK8JgESIAESWDaBIj6AY3th5bNYxEsVj9mssXPzUUOQFMiSpPYAquIiZnrlzn29AaqxTCBHtDPlq/Yu0Qstjpo2uuJWm22/ua9SBIPaC6s5yEYzp/tBAwuMkTpCzHhxtUU1b8wpHCouvEv0mljxefOkNVqNOdZKW8HLJZ/ekMEVUWc2Mv33D1wrhEDFe977A7E6RaEUvY/e625K/K9sIivDG2Bien97r0XxBx0a0I7phWyq8o6wde+Zjoft2Mhmf4Vvi8bi+RPc2j2CCiP4kCF4WG5Oa74DJ4bBxLu6f0kA7ldkT590x/Qq0fsEwZls4jIxtaXo/VvCAI7hqnhiQMICnN0jjP4CiudP8dPeU4RVOR0zHJxdRvROxuUWpo7TOkSkZvMJwa8nGDwVL3BdtquPs9qnCqt45UO1EU+P1wRC3iABEiABElgqgRT+wMHQK+MxMzlOzBZIOWJ3BDcut/mnPgbOEJ55LYJVvrYeBuUJS+JB7KnQg1Q5bnPE3hDO0C+9flrgSmiCTgeKxMfQuYSnV33bLTY96GaUdfSMoFoqoGthTD2s9EYIFfQCiRw7Zz/spAFGI+OtX2CMMjn9oZ4HRRqqY+hG1Vl3KfyhNa/yGN7QsU7cmDdPWtivl+gF2icu/Fye3qC6/eE1BhIza8Rd43SGE/iPa0+v5BdbEg5gToK4670uvcItL+V5qjzKtz058NhOs681eFv0imBVYQTqa/9jDMbpYkeAlac31CcvjLFjTkVoxPQ2T4e48/AUB/eNp7d9OsIRfqlOb2iW29qtT4dotn9WeIP0V9dRt/MIvd/el57tNht98sJPZhPiRFmrj5jePk35X4S/yridQIQ6/5EACZAACayAQBZiNDAbknrY9hLrm8wMwdBB33Lq5JGL7b4+P9dxehiIWGpEJqQI1LmsOo/E/FYaWbpTNNOd/jbcaMq3i52eXjEiYny7Ose3J3HFU0ysgOAPUIUI3ZqX0x8htHiJx7/XszYvLjBGeWzNAznnuX1enIoL7pcb3cqjxxqkmvNgYp7Yea+b6NV9KzdudZ1La3deXcsZtpOb3ups2tb0s2rrnJe/ukBRiNfT/NPhByokQInXWnAb4a2PCzP5pe31EWvm7sTvKixjIgXAjP6rDX4L2O8y27g3o45Gvq4XM/q4tPZ11ct7JEACJEAC30RAjp66VMH5ueflMCdSXaraVuZ5dbSy3/iXl2U+N//cAZib4ZLzbvVDuOTwhtV34Htq1GEKY+yM3yCM38BX4Q0SYiDhCCL25MSD1k/7pIXvaQDLkgAJkAAJkAAJkAAJrITAjRa9Os72JQYP9KkGjvsCvorTXQl7VkICJEACJEACJEACJLAiAjdc9K6IMqshARIgARIgARIgARJYKwGK3rXiZ+UkQAIkQAIkQAIkQAKrIEDRuwrKrIMESIAESIAESIAESGCtBCh614qflZMACZAACZAACZAACayCAEXvKiizDhIgARIgARIgARIggbUSoOhdK35WTgIkQAIkQAIkQAIksAoCFL2roLxoHfLHHhb6gx6LGmQ+EiABEiABEiABEiABIbBk0Zsj8QMk5Z/2viziPPvGgpetaCJ/jjhMV/eXROSvvd0/Lf++ed2Y/OkT/OS+Vu0o3r9F/P7fOnHulfxJ4mN4H+Zm/IYMKXY62jvT0JQ+zizDRBIgARIgARIgARK4IgJLFr3f00r5+9sx1iN7N0P02vSyx8dwHn+yb825puidA4jJJEACJEACJEACN5jAkkVvgTQMkcqfZ85juHEtYYs0hHmZJwGCIEDg+whV5gJZ5MNzPfjBpKc4j0MkaYKwUaYctSzWtgIffpiUojlFWHlupU0uoqzMX6QIqhdm5EX0JkiTUNny/bD0VovnOrY8svI6sl6X5d8nGOwf4c49/ZfdRqdfVELkHePg8Qs4cn/vCL3fP+oCthf0PMXOvWN4b78Cp8+w5aXAqz9wZ+8Qt/aOcMdNJuv7+Bo7ZX23945x8Erq06J3+PCJasftvTEGT41o/ojAHeO2at8R7j4svdqnz+A8OsVoX9p9hJ8f/IlUtfAC6fgJ7kr998bo/36KofH0ShnvBXr3jnDn0TsAU2xP6+O0/BN2S7b8RQIkQAIkQAIkQAJLILB60VukCC3RKSENopGB6Z7ePHZLcazziRDVcjpFGFhhCXkMPxZ1K0LXiNMMURhWdYr4tqovEUrdgRbrpi2BFtBFGtT586S0XxZTv74ie36K8P2FvvnxT/Tu/6mEauQdwnlcCl28w2jvKSLJZQShCN79E3imrBG9AKZ7ej/DfzCG+7as7/wNdpRYFdF7hGGsBTfOX6O/9wKxqu8NvOemHVL+GL68lPrun1ZCN/4/KX8BqD6Y+0Dx/AluWaK3LiN9mWJ7Wh+n5W+0RaPk/yRAAiRAAiRAAiSwLAKrF70iboMAYZIiy7Xc1Z2ZLXqNl1gL2tKbnEWWGBYrOWJPC+JKrGYRoixHGur7WRSWIs9GKG2yxLNyVJci2PIMi4e6O175X+R/v0U4fomRd4LbpUAU0btzauqxwg9EEN47Ru/eGAd/leJVsi0ieovXGOzXgtRYN57eOqY3xc7uMy2ycYHiY4YoTuA+fIqeeJYl9teqT+wYoS0itxbr8gzxGgNb9Io3uvo3xfa0Pi7Ylso8L0iABEiABEiABEhgCQTWIHp1q4s8K8MJTEjCckUvRKzGOSQ0QiIoxMOb5OL1bYpb3ZoZorfyGudISu9vk/tnBK6EDCQI//oHuXheFxG9e0/gj5/hTuVpbYpQI0CbdZUC9JKiN3/+BD/vP4Mfv0N69gWhtzzRO9W2iN6OPk7N3xLgE/3mDRIgARIgARIgARL4DgJXKHoT+KHxCOq4WuWtLTKkmfHwWjHA0PGzdRRw3SsJb+j09MKO3dVxxDq8QcqKSA0QGJGb65hgHUNc29ZXHeENdixvKuERba+ysWGFLcitv/9QQlaCLGZ6epUwvkD6+Bh3vDrGVsX0SuvHJ01vq6kOOjyhColQIvslkjKmt8vTW4UtKBvvcTDH04u3L3HXEuMT4Q2Wp3eqbRPegGYfp+an6K1GmBckQAIkQAIkQALLJ3B1oheyOS2A78umtVh5dbVwzZGEsuksQiSi1IoXyNMQsoksbSnf6aIXKLIIgapD6jFeYw0qT3z4lWcvU8EAAAHlSURBVH0JfbDjdm2Y5Ua2WG+wkzbXIlvyZYgaMb922Qukv5/g9t4J+u4xnIfP0F/E02vCBfAFkXeEXyT21xZ+H99gKJvVvNeTJ1pYG+faG9m6RC/e/4mebKRzn8DZf4Edd7anFyJUfz/Bz2oj2xF6j5sb2YwwVxSm2a5Er+Sy+jgtv913Gy+vSYAESIAESIAESGAJBK5Q9C6hdRtjYlpYhNVA+cMS51+tG1d9eYHivNy0tlBVX1GcXSY/gIX/WMZlbV82/0IdZCYSIAESIAESIAESmEpgqaI3lyO/TDjB1Cp/rIQiSxCFbc/vj9UHtpYESIAESIAESIAEbjqBpYremw6T/ScBEiABEiABEiABEthMAhS9mzkubBUJkAAJkAAJkAAJkMASCVD0LhEmTZEACZAACZAACZAACWwmAYrezRwXtooESIAESIAESIAESGCJBCh6lwiTpkiABEiABEiABEiABDaTAEXvZo4LW0UCJEACJEACJEACJLBEAhS9S4RJUyRAAiRAAiRAAiRAAptJgKJ3M8eFrSIBEiABEiABEiABElgiAYreJcKkKRIgARIgARIgARIggc0kQNG7mePCVpEACZAACZAACZAACSyRAEXvEmHSFAmQAAmQAAmQAAmQwGYS+H9pKr+V8VKCcQAAAABJRU5ErkJggg==)"
   ]
  },
  {
   "cell_type": "markdown",
   "metadata": {
    "id": "9V0eOQBLIHV-"
   },
   "source": [
    "# Conclusion\n",
    "\n",
    "* Got the best private_score of 0.85 with 10 base_models.\n",
    "* Not that satisfactory result as compared to the single CatBoostClassifier(private_score = 0.908)"
   ]
  }
 ],
 "metadata": {
  "colab": {
   "name": "custom_model_2.ipynb",
   "provenance": [],
   "toc_visible": true
  },
  "kernelspec": {
   "display_name": "Python 3",
   "language": "python",
   "name": "python3"
  },
  "language_info": {
   "codemirror_mode": {
    "name": "ipython",
    "version": 3
   },
   "file_extension": ".py",
   "mimetype": "text/x-python",
   "name": "python",
   "nbconvert_exporter": "python",
   "pygments_lexer": "ipython3",
   "version": "3.7.4"
  }
 },
 "nbformat": 4,
 "nbformat_minor": 1
}
